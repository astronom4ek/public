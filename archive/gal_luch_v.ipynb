{
 "cells": [
  {
   "cell_type": "markdown",
   "metadata": {},
   "source": [
    "# ИЗУЧЕНИЕ ВРАЩЕНИЯ ГАЛАКТИКИ ПО ЛУЧЕВЫМ СКОРОСТЯМ И СОБСТВЕННЫМ ДВИЖЕНИЯМ ЗВЕЗД\n",
    "##### выполнил Кузьмин Иван \n",
    "4 курс 432\n",
    "\n",
    "18.10.2022 "
   ]
  },
  {
   "cell_type": "markdown",
   "metadata": {},
   "source": [
    "Работа была выполнена основываясь на методическом пособии: http://www.sai.msu.ru/ao/speccourses/posobiya/MW-rotation.pdf\n"
   ]
  },
  {
   "cell_type": "code",
   "execution_count": 2,
   "metadata": {},
   "outputs": [],
   "source": [
    "import numpy as np\n",
    "import astropy.io\n",
    "import matplotlib.pyplot as plt\n",
    "from astropy.table import Table\n",
    "from astropy.table import QTable\n",
    "from astropy.coordinates import SkyCoord\n",
    "from mpl_toolkits import mplot3d\n",
    "from dataclasses import dataclass\n",
    "from scipy.optimize import minimize\n",
    "R0=8.2"
   ]
  },
  {
   "cell_type": "markdown",
   "metadata": {},
   "source": [
    "### Загрузим данные"
   ]
  },
  {
   "cell_type": "code",
   "execution_count": 3,
   "metadata": {
    "scrolled": true
   },
   "outputs": [
    {
     "data": {
      "text/html": [
       "<i>QTable length=412</i>\n",
       "<table id=\"table139632872893968\" class=\"table-striped table-bordered table-condensed\">\n",
       "<thead><tr><th>RAJ2000</th><th>DEJ2000</th><th>D_Laz</th><th>e_DLaz</th><th>pmRA</th><th>e_pmRA</th><th>pmDE</th><th>e_pmDE</th><th>pm_corr</th><th>RV</th><th>e_RV</th><th>No2</th></tr></thead>\n",
       "<thead><tr><th>float64</th><th>float64</th><th>float64</th><th>float64</th><th>float64</th><th>float64</th><th>float64</th><th>float64</th><th>float64</th><th>float64</th><th>float64</th><th>int64</th></tr></thead>\n",
       "<tr><td>292.33901036962</td><td>-7.04412430546</td><td>0.6273</td><td>0.065</td><td>1.983</td><td>0.186</td><td>-12.823</td><td>0.158</td><td>-0.0774</td><td>1.1</td><td>2.0</td><td>1</td></tr>\n",
       "<tr><td>286.16423452505</td><td>1.30614363512</td><td>2.0851</td><td>0.2388</td><td>0.285</td><td>0.075</td><td>-2.512</td><td>0.072</td><td>0.1245</td><td>10.5</td><td>1.0</td><td>2</td></tr>\n",
       "<tr><td>287.05728929396</td><td>1.298632119</td><td>1.0302</td><td>0.1153</td><td>-0.272</td><td>0.085</td><td>-4.555</td><td>0.079</td><td>0.0833</td><td>3.7</td><td>0.1</td><td>3</td></tr>\n",
       "<tr><td>284.56144610824</td><td>17.36087370956</td><td>0.475</td><td>0.0485</td><td>-1.068</td><td>0.158</td><td>-9.693</td><td>0.167</td><td>-0.3897</td><td>-15.8</td><td>0.1</td><td>4</td></tr>\n",
       "<tr><td>287.31662684606</td><td>10.55246598531</td><td>0.9112</td><td>0.0928</td><td>0.261</td><td>0.092</td><td>-5.24</td><td>0.087</td><td>0.1094</td><td>-5.2</td><td>0.1</td><td>5</td></tr>\n",
       "<tr><td>288.19713804039</td><td>3.55739850785</td><td>1.5115</td><td>0.1623</td><td>-1.814</td><td>0.104</td><td>-4.508</td><td>0.098</td><td>-0.0232</td><td>12.8</td><td>0.1</td><td>6</td></tr>\n",
       "<tr><td>285.3322079706</td><td>0.14700336756</td><td>2.087</td><td>0.2173</td><td>-0.095</td><td>0.098</td><td>-1.335</td><td>0.095</td><td>0.1909</td><td>11.5</td><td>1.0</td><td>7</td></tr>\n",
       "<tr><td>284.35110673574</td><td>-0.73023867567</td><td>1.9481</td><td>0.1791</td><td>-1.711</td><td>0.09</td><td>-2.15</td><td>0.073</td><td>-0.2002</td><td>24.9</td><td>7.0</td><td>8</td></tr>\n",
       "<tr><td>287.08654408297</td><td>-7.4377683277</td><td>1.2465</td><td>0.1341</td><td>-0.609</td><td>0.08</td><td>-5.38</td><td>0.073</td><td>0.0505</td><td>6.8</td><td>1.0</td><td>9</td></tr>\n",
       "<tr><td>288.65872334105</td><td>6.48252232162</td><td>3.7425</td><td>0.3622</td><td>-3.968</td><td>0.075</td><td>-7.073</td><td>0.071</td><td>0.0474</td><td>29.0</td><td>8.6</td><td>10</td></tr>\n",
       "<tr><td>...</td><td>...</td><td>...</td><td>...</td><td>...</td><td>...</td><td>...</td><td>...</td><td>...</td><td>...</td><td>...</td><td>...</td></tr>\n",
       "<tr><td>140.00627311829</td><td>-52.85618481337</td><td>5.4289</td><td>0.6052</td><td>-4.374</td><td>0.048</td><td>3.876</td><td>0.048</td><td>-0.0165</td><td>33.5</td><td>2.0</td><td>425</td></tr>\n",
       "<tr><td>141.28073459958</td><td>-53.20986396237</td><td>10.0122</td><td>1.226</td><td>-2.849</td><td>0.054</td><td>3.116</td><td>0.046</td><td>0.0736</td><td>92.2</td><td>2.0</td><td>426</td></tr>\n",
       "<tr><td>143.34884018877</td><td>-52.75584569418</td><td>3.5274</td><td>0.3616</td><td>-4.98</td><td>0.049</td><td>3.858</td><td>0.049</td><td>0.0376</td><td>11.8</td><td>3.1</td><td>427</td></tr>\n",
       "<tr><td>297.09917689286</td><td>27.28648185158</td><td>3.7853</td><td>0.4907</td><td>-3.401</td><td>0.058</td><td>-5.923</td><td>0.059</td><td>-0.0744</td><td>-0.7</td><td>0.2</td><td>428</td></tr>\n",
       "<tr><td>312.86767646312</td><td>28.25048271236</td><td>0.5513</td><td>0.0537</td><td>3.496</td><td>0.139</td><td>-5.087</td><td>0.141</td><td>0.0502</td><td>-0.9</td><td>1.0</td><td>429</td></tr>\n",
       "<tr><td>294.15720453209</td><td>20.33293176524</td><td>0.6562</td><td>0.0691</td><td>0.906</td><td>0.05</td><td>-0.96</td><td>0.062</td><td>-0.1373</td><td>-12.7</td><td>0.1</td><td>430</td></tr>\n",
       "<tr><td>299.36918305677</td><td>26.55644978974</td><td>0.9806</td><td>0.1003</td><td>-1.419</td><td>0.061</td><td>-4.043</td><td>0.061</td><td>0.0365</td><td>-14.3</td><td>0.1</td><td>431</td></tr>\n",
       "<tr><td>297.87876445837</td><td>27.46020706685</td><td>2.0386</td><td>0.2555</td><td>-2.139</td><td>0.045</td><td>-5.82</td><td>0.05</td><td>-0.0779</td><td>-1.5</td><td>0.1</td><td>432</td></tr>\n",
       "<tr><td>296.64660063366</td><td>22.88975420843</td><td>1.826</td><td>0.182</td><td>-3.587</td><td>0.043</td><td>-6.201</td><td>0.049</td><td>-0.2141</td><td>6.3</td><td>0.7</td><td>434</td></tr>\n",
       "<tr><td>299.66735404009</td><td>27.68366585296</td><td>2.5035</td><td>0.2799</td><td>-2.87</td><td>0.048</td><td>-4.697</td><td>0.05</td><td>-0.0924</td><td>2.6</td><td>1.0</td><td>435</td></tr>\n",
       "</table>"
      ],
      "text/plain": [
       "<QTable length=412>\n",
       "    RAJ2000         DEJ2000      D_Laz   e_DLaz ...    RV     e_RV   No2 \n",
       "    float64         float64     float64 float64 ... float64 float64 int64\n",
       "--------------- --------------- ------- ------- ... ------- ------- -----\n",
       "292.33901036962  -7.04412430546  0.6273   0.065 ...     1.1     2.0     1\n",
       "286.16423452505   1.30614363512  2.0851  0.2388 ...    10.5     1.0     2\n",
       "287.05728929396     1.298632119  1.0302  0.1153 ...     3.7     0.1     3\n",
       "284.56144610824  17.36087370956   0.475  0.0485 ...   -15.8     0.1     4\n",
       "287.31662684606  10.55246598531  0.9112  0.0928 ...    -5.2     0.1     5\n",
       "288.19713804039   3.55739850785  1.5115  0.1623 ...    12.8     0.1     6\n",
       " 285.3322079706   0.14700336756   2.087  0.2173 ...    11.5     1.0     7\n",
       "284.35110673574  -0.73023867567  1.9481  0.1791 ...    24.9     7.0     8\n",
       "287.08654408297   -7.4377683277  1.2465  0.1341 ...     6.8     1.0     9\n",
       "288.65872334105   6.48252232162  3.7425  0.3622 ...    29.0     8.6    10\n",
       "            ...             ...     ...     ... ...     ...     ...   ...\n",
       "140.00627311829 -52.85618481337  5.4289  0.6052 ...    33.5     2.0   425\n",
       "141.28073459958 -53.20986396237 10.0122   1.226 ...    92.2     2.0   426\n",
       "143.34884018877 -52.75584569418  3.5274  0.3616 ...    11.8     3.1   427\n",
       "297.09917689286  27.28648185158  3.7853  0.4907 ...    -0.7     0.2   428\n",
       "312.86767646312  28.25048271236  0.5513  0.0537 ...    -0.9     1.0   429\n",
       "294.15720453209  20.33293176524  0.6562  0.0691 ...   -12.7     0.1   430\n",
       "299.36918305677  26.55644978974  0.9806  0.1003 ...   -14.3     0.1   431\n",
       "297.87876445837  27.46020706685  2.0386  0.2555 ...    -1.5     0.1   432\n",
       "296.64660063366  22.88975420843   1.826   0.182 ...     6.3     0.7   434\n",
       "299.66735404009  27.68366585296  2.5035  0.2799 ...     2.6     1.0   435"
      ]
     },
     "execution_count": 3,
     "metadata": {},
     "output_type": "execute_result"
    }
   ],
   "source": [
    "#Размерности столбцов в таблице\n",
    "# deg deg kpc kpc mas/year mas/year  mas/year  mas/year  mas/year  m m  0\n",
    "\n",
    "#Загрузим таблицу\n",
    "data_all = QTable.read(\"Cepheids_L_R_GDR2.dat\", format='ascii')\n",
    "data_all"
   ]
  },
  {
   "cell_type": "markdown",
   "metadata": {},
   "source": [
    "Очистим данные от недостовренных измерений, оставим те, у которых соотношение сигнал шум для собсветнных движений, лучевых скоростей, и расстояний больше 5"
   ]
  },
  {
   "cell_type": "code",
   "execution_count": 19,
   "metadata": {},
   "outputs": [
    {
     "data": {
      "text/html": [
       "<i>QTable length=247</i>\n",
       "<table id=\"table139632869439888\" class=\"table-striped table-bordered table-condensed\">\n",
       "<thead><tr><th>RAJ2000</th><th>DEJ2000</th><th>D_Laz</th><th>e_DLaz</th><th>pmRA</th><th>e_pmRA</th><th>pmDE</th><th>e_pmDE</th><th>pm_corr</th><th>RV</th><th>e_RV</th><th>No2</th></tr></thead>\n",
       "<thead><tr><th>float64</th><th>float64</th><th>float64</th><th>float64</th><th>float64</th><th>float64</th><th>float64</th><th>float64</th><th>float64</th><th>float64</th><th>float64</th><th>int64</th></tr></thead>\n",
       "<tr><td>284.56144610824</td><td>17.36087370956</td><td>0.475</td><td>0.0485</td><td>-1.068</td><td>0.158</td><td>-9.693</td><td>0.167</td><td>-0.3897</td><td>-15.8</td><td>0.1</td><td>4</td></tr>\n",
       "<tr><td>288.19713804039</td><td>3.55739850785</td><td>1.5115</td><td>0.1623</td><td>-1.814</td><td>0.104</td><td>-4.508</td><td>0.098</td><td>-0.0232</td><td>12.8</td><td>0.1</td><td>6</td></tr>\n",
       "<tr><td>287.08654408297</td><td>-7.4377683277</td><td>1.2465</td><td>0.1341</td><td>-0.609</td><td>0.08</td><td>-5.38</td><td>0.073</td><td>0.0505</td><td>6.8</td><td>1.0</td><td>9</td></tr>\n",
       "<tr><td>290.25978278463</td><td>8.51632780165</td><td>1.7115</td><td>0.178</td><td>2.141</td><td>0.114</td><td>-1.653</td><td>0.1</td><td>-0.2371</td><td>1.8</td><td>0.2</td><td>11</td></tr>\n",
       "<tr><td>287.50172458624</td><td>12.53653630503</td><td>2.4187</td><td>0.2701</td><td>-1.704</td><td>0.075</td><td>-4.948</td><td>0.063</td><td>-0.1157</td><td>18.0</td><td>0.6</td><td>12</td></tr>\n",
       "<tr><td>298.08749648122</td><td>-11.36692281043</td><td>1.3567</td><td>0.1358</td><td>7.826</td><td>0.096</td><td>-10.641</td><td>0.05</td><td>-0.3857</td><td>12.5</td><td>0.2</td><td>13</td></tr>\n",
       "<tr><td>287.99653971677</td><td>4.35482998861</td><td>1.0317</td><td>0.1122</td><td>-3.531</td><td>0.067</td><td>-5.912</td><td>0.063</td><td>0.0528</td><td>-1.8</td><td>0.2</td><td>14</td></tr>\n",
       "<tr><td>298.11824226268</td><td>1.00562314294</td><td>0.2799</td><td>0.0291</td><td>7.627</td><td>0.839</td><td>-8.712</td><td>0.782</td><td>-0.1758</td><td>-15.0</td><td>1.0</td><td>16</td></tr>\n",
       "<tr><td>251.32961657352</td><td>-51.34263816721</td><td>4.7868</td><td>0.559</td><td>-2.606</td><td>0.067</td><td>-6.661</td><td>0.053</td><td>-0.0082</td><td>-82.2</td><td>2.0</td><td>17</td></tr>\n",
       "<tr><td>75.34662482031</td><td>39.96038150548</td><td>1.7239</td><td>0.1895</td><td>1.323</td><td>0.1</td><td>-3.156</td><td>0.076</td><td>0.3941</td><td>-21.1</td><td>0.3</td><td>20</td></tr>\n",
       "<tr><td>...</td><td>...</td><td>...</td><td>...</td><td>...</td><td>...</td><td>...</td><td>...</td><td>...</td><td>...</td><td>...</td><td>...</td></tr>\n",
       "<tr><td>132.04364142668</td><td>-48.65915286611</td><td>6.3533</td><td>0.6854</td><td>-3.245</td><td>0.045</td><td>3.626</td><td>0.043</td><td>-0.0355</td><td>73.9</td><td>2.0</td><td>420</td></tr>\n",
       "<tr><td>145.29272063456</td><td>-53.81603799521</td><td>3.8406</td><td>0.3892</td><td>-4.573</td><td>0.05</td><td>2.96</td><td>0.051</td><td>-0.164</td><td>26.8</td><td>2.0</td><td>421</td></tr>\n",
       "<tr><td>136.65872195259</td><td>-52.35745728238</td><td>3.4871</td><td>0.3561</td><td>-3.464</td><td>0.097</td><td>2.133</td><td>0.085</td><td>0.0607</td><td>16.0</td><td>2.0</td><td>422</td></tr>\n",
       "<tr><td>142.92069155603</td><td>-49.65498936099</td><td>2.0735</td><td>0.227</td><td>-5.691</td><td>0.056</td><td>3.71</td><td>0.055</td><td>-0.0399</td><td>20.6</td><td>1.0</td><td>424</td></tr>\n",
       "<tr><td>140.00627311829</td><td>-52.85618481337</td><td>5.4289</td><td>0.6052</td><td>-4.374</td><td>0.048</td><td>3.876</td><td>0.048</td><td>-0.0165</td><td>33.5</td><td>2.0</td><td>425</td></tr>\n",
       "<tr><td>141.28073459958</td><td>-53.20986396237</td><td>10.0122</td><td>1.226</td><td>-2.849</td><td>0.054</td><td>3.116</td><td>0.046</td><td>0.0736</td><td>92.2</td><td>2.0</td><td>426</td></tr>\n",
       "<tr><td>294.15720453209</td><td>20.33293176524</td><td>0.6562</td><td>0.0691</td><td>0.906</td><td>0.05</td><td>-0.96</td><td>0.062</td><td>-0.1373</td><td>-12.7</td><td>0.1</td><td>430</td></tr>\n",
       "<tr><td>299.36918305677</td><td>26.55644978974</td><td>0.9806</td><td>0.1003</td><td>-1.419</td><td>0.061</td><td>-4.043</td><td>0.061</td><td>0.0365</td><td>-14.3</td><td>0.1</td><td>431</td></tr>\n",
       "<tr><td>297.87876445837</td><td>27.46020706685</td><td>2.0386</td><td>0.2555</td><td>-2.139</td><td>0.045</td><td>-5.82</td><td>0.05</td><td>-0.0779</td><td>-1.5</td><td>0.1</td><td>432</td></tr>\n",
       "<tr><td>296.64660063366</td><td>22.88975420843</td><td>1.826</td><td>0.182</td><td>-3.587</td><td>0.043</td><td>-6.201</td><td>0.049</td><td>-0.2141</td><td>6.3</td><td>0.7</td><td>434</td></tr>\n",
       "</table>"
      ],
      "text/plain": [
       "<QTable length=247>\n",
       "    RAJ2000         DEJ2000      D_Laz   e_DLaz ...    RV     e_RV   No2 \n",
       "    float64         float64     float64 float64 ... float64 float64 int64\n",
       "--------------- --------------- ------- ------- ... ------- ------- -----\n",
       "284.56144610824  17.36087370956   0.475  0.0485 ...   -15.8     0.1     4\n",
       "288.19713804039   3.55739850785  1.5115  0.1623 ...    12.8     0.1     6\n",
       "287.08654408297   -7.4377683277  1.2465  0.1341 ...     6.8     1.0     9\n",
       "290.25978278463   8.51632780165  1.7115   0.178 ...     1.8     0.2    11\n",
       "287.50172458624  12.53653630503  2.4187  0.2701 ...    18.0     0.6    12\n",
       "298.08749648122 -11.36692281043  1.3567  0.1358 ...    12.5     0.2    13\n",
       "287.99653971677   4.35482998861  1.0317  0.1122 ...    -1.8     0.2    14\n",
       "298.11824226268   1.00562314294  0.2799  0.0291 ...   -15.0     1.0    16\n",
       "251.32961657352 -51.34263816721  4.7868   0.559 ...   -82.2     2.0    17\n",
       " 75.34662482031  39.96038150548  1.7239  0.1895 ...   -21.1     0.3    20\n",
       "            ...             ...     ...     ... ...     ...     ...   ...\n",
       "132.04364142668 -48.65915286611  6.3533  0.6854 ...    73.9     2.0   420\n",
       "145.29272063456 -53.81603799521  3.8406  0.3892 ...    26.8     2.0   421\n",
       "136.65872195259 -52.35745728238  3.4871  0.3561 ...    16.0     2.0   422\n",
       "142.92069155603 -49.65498936099  2.0735   0.227 ...    20.6     1.0   424\n",
       "140.00627311829 -52.85618481337  5.4289  0.6052 ...    33.5     2.0   425\n",
       "141.28073459958 -53.20986396237 10.0122   1.226 ...    92.2     2.0   426\n",
       "294.15720453209  20.33293176524  0.6562  0.0691 ...   -12.7     0.1   430\n",
       "299.36918305677  26.55644978974  0.9806  0.1003 ...   -14.3     0.1   431\n",
       "297.87876445837  27.46020706685  2.0386  0.2555 ...    -1.5     0.1   432\n",
       "296.64660063366  22.88975420843   1.826   0.182 ...     6.3     0.7   434"
      ]
     },
     "execution_count": 19,
     "metadata": {},
     "output_type": "execute_result"
    }
   ],
   "source": [
    "#Чистим данные от плохих точек\n",
    "data = data_all\n",
    "for key, ekey in [['D_Laz','e_DLaz'], ['pmRA','e_pmRA'],  ['pmDE','e_pmDE'], ['RV','e_RV'] ]:\n",
    "    data = data[np.abs(data[key]/data[ekey])>5]\n",
    "data"
   ]
  },
  {
   "cell_type": "code",
   "execution_count": 20,
   "metadata": {},
   "outputs": [
    {
     "data": {
      "text/html": [
       "<i>QTable length=364</i>\n",
       "<table id=\"table139632919980176\" class=\"table-striped table-bordered table-condensed\">\n",
       "<thead><tr><th>RAJ2000</th><th>DEJ2000</th><th>D_Laz</th><th>e_DLaz</th><th>pmRA</th><th>e_pmRA</th><th>pmDE</th><th>e_pmDE</th><th>pm_corr</th><th>RV</th><th>e_RV</th><th>No2</th></tr></thead>\n",
       "<thead><tr><th>float64</th><th>float64</th><th>float64</th><th>float64</th><th>float64</th><th>float64</th><th>float64</th><th>float64</th><th>float64</th><th>float64</th><th>float64</th><th>int64</th></tr></thead>\n",
       "<tr><td>292.33901036962</td><td>-7.04412430546</td><td>0.6273</td><td>0.065</td><td>1.983</td><td>0.186</td><td>-12.823</td><td>0.158</td><td>-0.0774</td><td>1.1</td><td>2.0</td><td>1</td></tr>\n",
       "<tr><td>286.16423452505</td><td>1.30614363512</td><td>2.0851</td><td>0.2388</td><td>0.285</td><td>0.075</td><td>-2.512</td><td>0.072</td><td>0.1245</td><td>10.5</td><td>1.0</td><td>2</td></tr>\n",
       "<tr><td>287.05728929396</td><td>1.298632119</td><td>1.0302</td><td>0.1153</td><td>-0.272</td><td>0.085</td><td>-4.555</td><td>0.079</td><td>0.0833</td><td>3.7</td><td>0.1</td><td>3</td></tr>\n",
       "<tr><td>284.56144610824</td><td>17.36087370956</td><td>0.475</td><td>0.0485</td><td>-1.068</td><td>0.158</td><td>-9.693</td><td>0.167</td><td>-0.3897</td><td>-15.8</td><td>0.1</td><td>4</td></tr>\n",
       "<tr><td>287.31662684606</td><td>10.55246598531</td><td>0.9112</td><td>0.0928</td><td>0.261</td><td>0.092</td><td>-5.24</td><td>0.087</td><td>0.1094</td><td>-5.2</td><td>0.1</td><td>5</td></tr>\n",
       "<tr><td>288.19713804039</td><td>3.55739850785</td><td>1.5115</td><td>0.1623</td><td>-1.814</td><td>0.104</td><td>-4.508</td><td>0.098</td><td>-0.0232</td><td>12.8</td><td>0.1</td><td>6</td></tr>\n",
       "<tr><td>285.3322079706</td><td>0.14700336756</td><td>2.087</td><td>0.2173</td><td>-0.095</td><td>0.098</td><td>-1.335</td><td>0.095</td><td>0.1909</td><td>11.5</td><td>1.0</td><td>7</td></tr>\n",
       "<tr><td>284.35110673574</td><td>-0.73023867567</td><td>1.9481</td><td>0.1791</td><td>-1.711</td><td>0.09</td><td>-2.15</td><td>0.073</td><td>-0.2002</td><td>24.9</td><td>7.0</td><td>8</td></tr>\n",
       "<tr><td>287.08654408297</td><td>-7.4377683277</td><td>1.2465</td><td>0.1341</td><td>-0.609</td><td>0.08</td><td>-5.38</td><td>0.073</td><td>0.0505</td><td>6.8</td><td>1.0</td><td>9</td></tr>\n",
       "<tr><td>288.65872334105</td><td>6.48252232162</td><td>3.7425</td><td>0.3622</td><td>-3.968</td><td>0.075</td><td>-7.073</td><td>0.071</td><td>0.0474</td><td>29.0</td><td>8.6</td><td>10</td></tr>\n",
       "<tr><td>...</td><td>...</td><td>...</td><td>...</td><td>...</td><td>...</td><td>...</td><td>...</td><td>...</td><td>...</td><td>...</td><td>...</td></tr>\n",
       "<tr><td>142.92069155603</td><td>-49.65498936099</td><td>2.0735</td><td>0.227</td><td>-5.691</td><td>0.056</td><td>3.71</td><td>0.055</td><td>-0.0399</td><td>20.6</td><td>1.0</td><td>424</td></tr>\n",
       "<tr><td>140.00627311829</td><td>-52.85618481337</td><td>5.4289</td><td>0.6052</td><td>-4.374</td><td>0.048</td><td>3.876</td><td>0.048</td><td>-0.0165</td><td>33.5</td><td>2.0</td><td>425</td></tr>\n",
       "<tr><td>143.34884018877</td><td>-52.75584569418</td><td>3.5274</td><td>0.3616</td><td>-4.98</td><td>0.049</td><td>3.858</td><td>0.049</td><td>0.0376</td><td>11.8</td><td>3.1</td><td>427</td></tr>\n",
       "<tr><td>297.09917689286</td><td>27.28648185158</td><td>3.7853</td><td>0.4907</td><td>-3.401</td><td>0.058</td><td>-5.923</td><td>0.059</td><td>-0.0744</td><td>-0.7</td><td>0.2</td><td>428</td></tr>\n",
       "<tr><td>312.86767646312</td><td>28.25048271236</td><td>0.5513</td><td>0.0537</td><td>3.496</td><td>0.139</td><td>-5.087</td><td>0.141</td><td>0.0502</td><td>-0.9</td><td>1.0</td><td>429</td></tr>\n",
       "<tr><td>294.15720453209</td><td>20.33293176524</td><td>0.6562</td><td>0.0691</td><td>0.906</td><td>0.05</td><td>-0.96</td><td>0.062</td><td>-0.1373</td><td>-12.7</td><td>0.1</td><td>430</td></tr>\n",
       "<tr><td>299.36918305677</td><td>26.55644978974</td><td>0.9806</td><td>0.1003</td><td>-1.419</td><td>0.061</td><td>-4.043</td><td>0.061</td><td>0.0365</td><td>-14.3</td><td>0.1</td><td>431</td></tr>\n",
       "<tr><td>297.87876445837</td><td>27.46020706685</td><td>2.0386</td><td>0.2555</td><td>-2.139</td><td>0.045</td><td>-5.82</td><td>0.05</td><td>-0.0779</td><td>-1.5</td><td>0.1</td><td>432</td></tr>\n",
       "<tr><td>296.64660063366</td><td>22.88975420843</td><td>1.826</td><td>0.182</td><td>-3.587</td><td>0.043</td><td>-6.201</td><td>0.049</td><td>-0.2141</td><td>6.3</td><td>0.7</td><td>434</td></tr>\n",
       "<tr><td>299.66735404009</td><td>27.68366585296</td><td>2.5035</td><td>0.2799</td><td>-2.87</td><td>0.048</td><td>-4.697</td><td>0.05</td><td>-0.0924</td><td>2.6</td><td>1.0</td><td>435</td></tr>\n",
       "</table>"
      ],
      "text/plain": [
       "<QTable length=364>\n",
       "    RAJ2000         DEJ2000      D_Laz   e_DLaz ...    RV     e_RV   No2 \n",
       "    float64         float64     float64 float64 ... float64 float64 int64\n",
       "--------------- --------------- ------- ------- ... ------- ------- -----\n",
       "292.33901036962  -7.04412430546  0.6273   0.065 ...     1.1     2.0     1\n",
       "286.16423452505   1.30614363512  2.0851  0.2388 ...    10.5     1.0     2\n",
       "287.05728929396     1.298632119  1.0302  0.1153 ...     3.7     0.1     3\n",
       "284.56144610824  17.36087370956   0.475  0.0485 ...   -15.8     0.1     4\n",
       "287.31662684606  10.55246598531  0.9112  0.0928 ...    -5.2     0.1     5\n",
       "288.19713804039   3.55739850785  1.5115  0.1623 ...    12.8     0.1     6\n",
       " 285.3322079706   0.14700336756   2.087  0.2173 ...    11.5     1.0     7\n",
       "284.35110673574  -0.73023867567  1.9481  0.1791 ...    24.9     7.0     8\n",
       "287.08654408297   -7.4377683277  1.2465  0.1341 ...     6.8     1.0     9\n",
       "288.65872334105   6.48252232162  3.7425  0.3622 ...    29.0     8.6    10\n",
       "            ...             ...     ...     ... ...     ...     ...   ...\n",
       "142.92069155603 -49.65498936099  2.0735   0.227 ...    20.6     1.0   424\n",
       "140.00627311829 -52.85618481337  5.4289  0.6052 ...    33.5     2.0   425\n",
       "143.34884018877 -52.75584569418  3.5274  0.3616 ...    11.8     3.1   427\n",
       "297.09917689286  27.28648185158  3.7853  0.4907 ...    -0.7     0.2   428\n",
       "312.86767646312  28.25048271236  0.5513  0.0537 ...    -0.9     1.0   429\n",
       "294.15720453209  20.33293176524  0.6562  0.0691 ...   -12.7     0.1   430\n",
       "299.36918305677  26.55644978974  0.9806  0.1003 ...   -14.3     0.1   431\n",
       "297.87876445837  27.46020706685  2.0386  0.2555 ...    -1.5     0.1   432\n",
       "296.64660063366  22.88975420843   1.826   0.182 ...     6.3     0.7   434\n",
       "299.66735404009  27.68366585296  2.5035  0.2799 ...     2.6     1.0   435"
      ]
     },
     "execution_count": 20,
     "metadata": {},
     "output_type": "execute_result"
    }
   ],
   "source": [
    "data = data_all\n",
    "data=data[gal_r<12]\n",
    "data"
   ]
  },
  {
   "cell_type": "markdown",
   "metadata": {},
   "source": [
    "В итоге осталось 247 звезд из 412 исходных"
   ]
  },
  {
   "cell_type": "markdown",
   "metadata": {},
   "source": [
    "### Визуализация данных\n",
    "\n",
    "Построим графики распределения звезд на небе, \n",
    "\n",
    "Красной линии обозначен галактический экватор "
   ]
  },
  {
   "cell_type": "code",
   "execution_count": 92,
   "metadata": {},
   "outputs": [
    {
     "data": {
      "image/png": "[encoded data removed]",
      "text/plain": [
       "<Figure size 432x288 with 1 Axes>"
      ]
     },
     "metadata": {
      "needs_background": "light"
     },
     "output_type": "display_data"
    }
   ],
   "source": [
    "#Убедимся чтo звезды в плоскости галактического экватора \n",
    "x = np.linspace(0,360, 100)\n",
    "y = np.cos((x-193)/180*np.pi)*-(90-27)\n",
    "plt.scatter(data['RAJ2000'], data['DEJ2000'],s=10)\n",
    "plt.plot(x,y,color='red')\n",
    "plt.title(\"распределение звезд на небе\")\n",
    "plt.xlabel(\"RA\")\n",
    "plt.ylabel(\"DEC\")\n",
    "plt.grid()\n",
    "plt.show()"
   ]
  },
  {
   "cell_type": "code",
   "execution_count": 93,
   "metadata": {},
   "outputs": [],
   "source": [
    "def sin (deg):\n",
    "    '''Принимает аргумент в градусах'''\n",
    "    return np.sin(deg/180*np.pi)\n",
    "def cos (deg):\n",
    "    '''Принимает аргумент в градусах'''\n",
    "    return np.cos(deg/180*np.pi)\n",
    "\n",
    "def eqV_to_galV(ra,dec, vra, vdec) -> [float, float]:\n",
    "    '''Переводит экваториальные скорости в гелиоцентрическую галактическую систмему координат'''\n",
    "    A = 192.85948\n",
    "    D = 27.12825\n",
    "\n",
    "    s1 = np.sin(dec/180*np.pi)*np.sin(D/180*np.pi) + np.cos(dec/180*np.pi)*np.cos(D/180*np.pi)*np.cos((ra-A)/180*np.pi)\n",
    "    s2 = np.sqrt(1-s1**2)\n",
    "    sx = np.cos(D/180*np.pi)*np.sin((ra-A)/180*np.pi)/s2\n",
    "    cx = (np.sin(D/180*np.pi)*np.cos(dec/180*np.pi)-np.cos(D/180*np.pi)*np.sin(dec/180*np.pi)*np.cos((ra-A)/180*np.pi))/s2\n",
    "    vl =  vra*cx + vdec*sx\n",
    "    vb = -vra*sx + vdec *cx\n",
    "    return (vl, vb)\n",
    "    \n",
    "def c_to_gal_c (ra,dec):\n",
    "    '''Переводит координаты из экваториальной СК в гелиоцентрическую галактическую СК'''\n",
    "    c = SkyCoord(ra, dec, unit=\"deg\") \n",
    "    c = c.transform_to('galactic')\n",
    "    return list(map(float, c.to_string ().split(' ')))"
   ]
  },
  {
   "cell_type": "markdown",
   "metadata": {},
   "source": [
    "Перейдем в галактическую СК и убедимся, что звезды сконцентрированны вблизи экватора (b=0)"
   ]
  },
  {
   "cell_type": "code",
   "execution_count": 94,
   "metadata": {
    "scrolled": true
   },
   "outputs": [
    {
     "data": {
      "image/png": "[encoded data removed]",
      "text/plain": [
       "<Figure size 432x288 with 1 Axes>"
      ]
     },
     "metadata": {
      "needs_background": "light"
     },
     "output_type": "display_data"
    }
   ],
   "source": [
    "#Перевод в галактическю СК \n",
    "galcoord = list(map(c_to_gal_c, data['RAJ2000'],data['DEJ2000']))\n",
    "galv = list(map(eqV_to_galV,data['RAJ2000'],data['DEJ2000'],data['pmRA'],data['pmDE']))\n",
    "galverr = list(map(eqV_to_galV,data['RAJ2000'],data['DEJ2000'],data['e_pmRA'],data['e_pmDE']))\n",
    "\n",
    "#Рисование графика \n",
    "plt.scatter([c[0] for c in galcoord], [c[1] for c in galcoord],s=8)\n",
    "plt.title(\"В GC распределение по небу\")\n",
    "plt.xlabel(\"l\")\n",
    "plt.ylabel(\"b\")\n",
    "plt.grid()\n",
    "plt.show()\n",
    "\n",
    "#переход в ГК прошел удачно, звезды выстроились вдоль экватора "
   ]
  },
  {
   "cell_type": "markdown",
   "metadata": {},
   "source": [
    "### Двойные волны \n",
    "\n",
    "построим распределение скоростей по галактической долготе, зелеными кррестами обозначены погрешности определения скорости"
   ]
  },
  {
   "cell_type": "code",
   "execution_count": 95,
   "metadata": {},
   "outputs": [
    {
     "data": {
      "image/png": "[encoded data removed]",
      "text/plain": [
       "<Figure size 432x288 with 1 Axes>"
      ]
     },
     "metadata": {
      "needs_background": "light"
     },
     "output_type": "display_data"
    },
    {
     "data": {
      "image/png": "[encoded data removed]",
      "text/plain": [
       "<Figure size 432x288 with 1 Axes>"
      ]
     },
     "metadata": {
      "needs_background": "light"
     },
     "output_type": "display_data"
    }
   ],
   "source": [
    "x = [c[0] for c in galcoord]\n",
    "y = data['RV'] \n",
    "yerr = data['e_RV']\n",
    "plt.scatter(x,y, s=5)\n",
    "plt.errorbar(x,y,yerr=yerr, fmt='none',c='green')\n",
    "plt.title(\"Vрадиал в галактических координатах\")\n",
    "plt.xlabel(\"l\")\n",
    "plt.ylabel(\"VR\")\n",
    "plt.grid()\n",
    "plt.show()\n",
    "\n",
    "x = [c[0] for c in galcoord]\n",
    "y = [c[0] for c in galv]\n",
    "yerr = [c[0] for c in galverr] #грубая оценка погрешностей\n",
    "plt.scatter(x, y,s=5)\n",
    "plt.errorbar(x,y,yerr=yerr, fmt='none',c='green')\n",
    "plt.title(\"Vдолгот в галактических координатах\")\n",
    "plt.xlabel(\"l\")\n",
    "plt.ylabel(\"muL\")\n",
    "plt.grid()\n",
    "plt.show()\n",
    "\n",
    "#наблюдается волны  скоростях в гелиоцентрических ГК"
   ]
  },
  {
   "cell_type": "code",
   "execution_count": 144,
   "metadata": {},
   "outputs": [
    {
     "name": "stdout",
     "output_type": "stream",
     "text": [
      "Parameters(U0=8.885958100664018, V0=5, W0=7.880342495092839, siqu=13.97015499333953, siqv=20.67811065839736, siqw=14.810854807430355, w0=29.65508197079412, w1=-4.019870559808494, w2=0.6299960341192739)\n"
     ]
    },
    {
     "data": {
      "image/png": "[encoded data removed]",
      "text/plain": [
       "<Figure size 432x288 with 1 Axes>"
      ]
     },
     "metadata": {
      "needs_background": "light"
     },
     "output_type": "display_data"
    },
    {
     "name": "stdout",
     "output_type": "stream",
     "text": [
      "Parameters(U0=8.885958100664018, V0=5, W0=7.880342495092839, siqu=13.97015499333953, siqv=20.67811065839736, siqw=14.810854807430355, w0=29.65508197079412, w1=-4.019870559808494, w2=0.6299960341192739)\n"
     ]
    }
   ],
   "source": [
    "def transform_sfer_to_decart(ra, dec, r)->[float, float, float]: \n",
    "    \"\"\"\n",
    "    Углы в градусах, конвектирует из сферических коодинат в декартовы\n",
    "    ra dec r -> x,y,z\n",
    "    \"\"\"\n",
    "    x = r*cos(dec)*cos(ra)\n",
    "    y = r*cos(dec)*sin(ra)\n",
    "    z = r*sin(dec)\n",
    "    return x,y,z\n",
    "    \n",
    "def transform_sfer_to_decart_array (ra, dec, r)->[np.array, np.array, np.array]:\n",
    "    \"\"\"\n",
    "    Углы в градусах, конвектирует из сферических коодинат в декартовы\n",
    "    принимает массив координат, возращает три массива (соотвесвтие по номеру индекса)\n",
    "    ra dec r -> x,y,z\n",
    "    \"\"\"\n",
    "    dim = len(ra)\n",
    "    x = np.zeros(dim)\n",
    "    y = np.zeros(dim)\n",
    "    z = np.zeros(dim)\n",
    "    for i in range(dim):\n",
    "        x[i],y[i],z[i] = transform_sfer_to_decart(ra[i],dec[i],r[i])\n",
    "    return x,y,z\n",
    "        \n",
    "\n",
    "#Галактические координаты \n",
    "lra =  np.array([i[0] for i in galcoord])\n",
    "bdec = np.array([i[1] for i in galcoord])\n",
    "r = np.array([i for i in data['D_Laz']])\n",
    "\n",
    "#Гал скорости\n",
    "vr = np.array(data['RV'])\n",
    "vl =  np.array([i[0]*r*4.7 for i,r in zip(galv, data['D_Laz'])])\n",
    "vb = np.array([i[1]*r*4.7 for i,r in zip(galv, data['D_Laz'])])\n",
    "#Ошибки гал скорости\n",
    "vr_err = np.array(data['e_RV'])\n",
    "vl_err = np.array([i[0]*r*4.7 for i,r in zip(galverr, data['D_Laz'])])\n",
    "vb_err =  np.array([i[1]*r*4.7 for i,r in zip(galverr, data['D_Laz'])])\n",
    "\n",
    "#перевод в прямоугольную СК координат и скоростей\n",
    "x,y,z= transform_sfer_to_decart_array(lra, bdec, data['D_Laz'])\n",
    "#делаение на 30 для удобства отображения \n",
    "vx,vy,vz = transform_sfer_to_decart_array(vl/30, vb/30, np.array(data['RV'])/30) \n",
    "x1=x-R0\n",
    "\n",
    "p  = Parameters(U0=8.885958100664018, V0=5, W0=7.880342495092839, siqu=13.97015499333953, siqv=20.67811065839736, siqw=14.810854807430355, w0=29.65508197079412, w1=-4.019870559808494, w2=0.6299960341192739)\n",
    "#p =step.param\n",
    "#p = {'U0': 8.90027916931819, 'V0': 13.491033033681257, 'W0': 7.698010810101314, 'siqu': 17.291873067012325, 'siqv': 22.042285211307913, \\\n",
    "#'siqw': 17.2787970521147, 'w0': 27.11099651831307, 'w1': -3.046729619321604, 'w2': -0.3094668025848607}\n",
    "vy1=30*vy-p.w0*R0\n",
    "#p =step.param\n",
    "print(p)\n",
    "#{'U0': 8.90027916931819, 'V0': 13.491033033681257, 'W0': 7.698010810101314, 'siqu': 17.291873067012325, 'siqv': \\\n",
    "#    22.042285211307913, 'siqw': 17.2787970521147, 'w0': 27.11099651831307, 'w1': -3.046729619321604, 'w2': -0.3094668025848607}\n",
    "angle = np.arctan2(y,x1)\n",
    "v_tan = -np.sin(angle)*vx*30+vy1*np.cos(angle)\n",
    "#print ([[ai,vi] for vi, ai in zip(v_tan, angle)])\n",
    "%matplotlib inline\n",
    "plt.scatter(np.sqrt(x1*x1+y*y+z*z), v_tan)\n",
    "plt.title(\"Зависимость тангеснальной скорости от гал-центр расстояния\")\n",
    "xlinspace = np.linspace(5,13)\n",
    "plt.plot(xlinspace,xlinspace*(p.w0+p.w1*(xlinspace-R0)+(p.w2)/2*(xlinspace-R0)**2), c='red')\n",
    "#plt.plot(xlinspace,xlinspace*(27+-3*(xlinspace-R0)+0.1/2*(xlinspace-R0)**2), c='red')\n",
    "plt.ylim(0,300)\n",
    "plt.grid()\n",
    "plt.xlabel('r, kpk')\n",
    "plt.ylabel('V,  km/s')\n",
    "plt.show()\n",
    "'''\n",
    "gal_r = np.zeros(len(r))\n",
    "gal_r = r_centriod_galcenter(r,lra,bdec)\n",
    "sun_v=np.array([0,p['w0']*R0,0])\n",
    "gal_v = np.sqrt((vx-sun_v[0]/30)**2-0.4*(vy-sun_v[1]/30)**2)\n",
    "plt.scatter(gal_r, gal_v*30)\n",
    "xxx = np.linspace(5,20)\n",
    "plt.plot(xxx,xxx*(28+-4.6*(xxx-R0)-0.8/2*(xxx-R0)**2))\n",
    "plt.scatter(1,1)\n",
    "plt.ylim(0,350)\n",
    "plt.show()\n",
    "'''\n",
    "plt.plot('')\n",
    "print(p)\n",
    "\n",
    "#при R=7.5\n",
    "#Parameters(U0=8.885958100664018, V0=5.2666965679750275, W0=7.880342495092839, siqu=13.97015499333953, siqv=20.67811065839736, siqw=14.810854807430355, w0=29.65508197079412, w1=-4.019870559808494, w2=0.4299960341192739)\n",
    "\n",
    "#8.2\n",
    "#Parameters(U0=8.819449132565623, V0=5.659997454207415, W0=7.868252900337845, siqu=14.067966356104286, siqv=20.58791862929684, siqw=14.767007184777144, w0=29.297960679394972, w1=-3.6058647719564214, w2=0.27878337164040357)"
   ]
  },
  {
   "cell_type": "code",
   "execution_count": 97,
   "metadata": {},
   "outputs": [
    {
     "data": {
      "image/png": "[encoded data removed]",
      "text/plain": [
       "<Figure size 432x288 with 1 Axes>"
      ]
     },
     "metadata": {
      "needs_background": "light"
     },
     "output_type": "display_data"
    }
   ],
   "source": [
    "\n",
    "'''\n",
    "            Начнем отрисовку 3D графика, где точка положение звезды в галактие,\n",
    "         a стрелкой указана направления вектора скорости. Точка  отсчета - Солнце\n",
    "         Оси в kpk, красная линия указывает на (8.2,0,0)  то есть положения центра галактики\n",
    "'''\n",
    "\n",
    "#массив с размерами для каждой точек\n",
    "s = [10]*len(x)\n",
    "\n",
    "#эта команда для рисование не в отдельном окне,нужно для среды jupytera \n",
    "%matplotlib inline\n",
    "fig = plt.figure()\n",
    "ax = plt.axes(projection='3d')\n",
    "ax.scatter(x,y,z,s)\n",
    "ax.plot([8,0],[0,0],[0,0] ,c='red')\n",
    "ax.quiver(x,y,z,vx,vy,vz)\n",
    "ax.set_xlim(-8,8)\n",
    "ax.set_ylim(-8,8)\n",
    "ax.set_zlim(-3,3)\n",
    "plt.show()\n",
    "#видно что вращение идет как бы вокруг Солнца. Вычтем вектор Vsun"
   ]
  },
  {
   "cell_type": "code",
   "execution_count": 98,
   "metadata": {},
   "outputs": [
    {
     "data": {
      "text/plain": [
       "(-3, 3)"
      ]
     },
     "execution_count": 98,
     "metadata": {},
     "output_type": "execute_result"
    },
    {
     "data": {
      "image/png": "[encoded data removed]",
      "text/plain": [
       "<Figure size 432x288 with 1 Axes>"
      ]
     },
     "metadata": {
      "needs_background": "light"
     },
     "output_type": "display_data"
    }
   ],
   "source": [
    "#вычстим из скорости Vsum=(0,240,0)\n",
    "%matplotlib inline\n",
    "fig = plt.figure()\n",
    "ax = plt.axes(projection='3d')\n",
    "ax.set_title(\"С учетом примернойскорости Солнца\")\n",
    "ax.scatter(x,y,z,s)\n",
    "ax.plot([8,0],[0,0],[0,0] ,c='red')\n",
    "ax.quiver(x,y,z,vx,vy-240/30,vz)\n",
    "ax.set_xlim(-8,8)\n",
    "ax.set_ylim(-8,8)\n",
    "ax.set_zlim(-3,3)\n",
    "#plt.show()"
   ]
  },
  {
   "cell_type": "markdown",
   "metadata": {},
   "source": [
    "Графики выше демонстрируют, что звезды сконцентриованы в плоскости галактики.\n",
    "И так как вектора скорости совпадают с ождаемыми направлениям, можно сделать вывод, что переход в галактические координаты сделан верно. Далее приступим к подготовке к вычеслению функции правдоподобия. \n",
    "\n",
    "### 4. Поле пространственных скоростей и формулы Ботлингера\n",
    "\n",
    "Напишем ряд вспомогательный функций для расчета пикулярной скорости"
   ]
  },
  {
   "cell_type": "code",
   "execution_count": 284,
   "metadata": {},
   "outputs": [
    {
     "data": {
      "text/plain": [
       "254.2"
      ]
     },
     "execution_count": 284,
     "metadata": {},
     "output_type": "execute_result"
    }
   ],
   "source": [
    "31*8.2"
   ]
  },
  {
   "cell_type": "code",
   "execution_count": 99,
   "metadata": {},
   "outputs": [],
   "source": [
    "#эта функция не понадобилась \n",
    "def Vcircl_fun (r, l, b, w, w0,r0=R0) -> np.array:\n",
    "    \"\"\"r in kps, r,b in deg\"\"\"\n",
    "    Vcirсl = np.array([r0*(w-w0)*sin(l),\n",
    "                       (r0*cos(l)-r*cos(b))*(w-w0)-w0*r*cos(b),\n",
    "                       -r0*(w-w0)*sin(l)*sin(b)])\n",
    "    return Vcirсl\n",
    "\n",
    "def GT_fun(r, l, b,r0=R0) -> np.array:\n",
    "    \"\"\"r in kps, l,b in deg\n",
    "        матрица поворота, переводящая вектор скорости Солнца\n",
    "    из локальной прямоугольной галактической системы координат в\n",
    "    систему координат, связанную с направлением на звезду (т.е.\n",
    "    задающая вклад скорости Солнца относительно выборки в\n",
    "    наблюдаемую пространственную скорость звезды)\n",
    "    (см методичку)\n",
    "    \"\"\"\n",
    "    return np.array([\n",
    "        [cos(l)*cos(b),   sin(l)*cos(b), sin(b)],\n",
    "        [-sin(l),         cos(l),      0],\n",
    "        [-cos(l)*sin(b), -sin(l)*cos(b), cos(b)]\n",
    "    ])\n",
    "    return Vcirсl\n",
    "\n",
    "def angle_sight_galcentr(r,l,b,R0=R0):\n",
    "    \"\"\"\n",
    "        Вспомогательный угол L между лучом зрения и большой\n",
    "    осью эллипсоида скоростей, определяющий ориентацию эллипсоида\n",
    "    относительно луча зрения, вычисляется по очевидной формуле\n",
    "    (см методичку)\n",
    "    \"\"\"\n",
    "    tgL=R0*sin(l)/(R0*cos(l)-r*cos(b))\n",
    "    return np.arctan(tgL)*180/np.pi\n",
    "    \n",
    "def Gs_fun(r, l, b) -> np.array:\n",
    "    \"\"\"\n",
    "    r in kps, l,b in deg\n",
    "        преобразование поворота от главных осей\n",
    "    эллипсоида к локальным осям, осуществляется  с помощью\n",
    "    матрицы Gs : e_loc = Gs*e_s\n",
    "    (См методичку)\n",
    "    \"\"\"\n",
    "    #расчет вспомогательного угла\n",
    "    L = angle_sight_galcentr(r,l,b)\n",
    "    return np.array([\n",
    "        [cos(b)*cos(L),  cos(b)*sin(L),sin(b)],\n",
    "        [-sin(L),        cos(L),           0],\n",
    "        [-sin(b)*cos(l),-sin(b)*sin(L),cos(b)]\n",
    "    ])\n",
    "\n",
    "def r_centriod_galcenter(r,l,b, R0=R0):\n",
    "    \"\"\" \n",
    "        Расстояние R\n",
    "        центроида S от оси Галактики (см методичку)\n",
    "    \"\"\"\n",
    "    return np.sqrt(R0**2+(r*cos(b))**2-2*r*R0*cos(b)*cos(l))\n"
   ]
  },
  {
   "cell_type": "markdown",
   "metadata": {},
   "source": [
    "Далее введем дополнительные структуры данных для удобства работы:"
   ]
  },
  {
   "cell_type": "code",
   "execution_count": 100,
   "metadata": {},
   "outputs": [],
   "source": [
    "@dataclass \n",
    "class Parameters():\n",
    "    \"\"\"\n",
    "    Класс для записи свободных параметров в функции правдоподобия\n",
    "    \"\"\"\n",
    "    U0: float #скорость солнца \n",
    "    V0: float\n",
    "    W0: float\n",
    "    siqu: float #эллипсодиды скоростей\n",
    "    siqv: float\n",
    "    siqw: float\n",
    "    w0: float\n",
    "    w1: float\n",
    "    w2: float #вторая производная локальной угловой скорости \n",
    "\n",
    "@dataclass\n",
    "class Stars ():\n",
    "    \"\"\"Хранения параметров населения звезд, все данные в массивах\"\"\"\n",
    "    #Сферические координаты  в гелиоцентрической галактической СК\n",
    "    r: np.array #Гелиоцентрическое расстояние kpk\n",
    "    l: np.array #Долгота deg\n",
    "    b: np.array #Широта deg\n",
    "        \n",
    "    #Cферические скорости  собсвенного движения в гелиоцентрической галактической СК\n",
    "    vr: np.array #радиальная\n",
    "    vl: np.array #долготная\n",
    "    vb: np.array #широтная\n",
    "    \n",
    "    #Ошибки  скоростей  собсвенного движения в sunГалСК\n",
    "    vr_err: np.array\n",
    "    vl_err: np.array\n",
    "    vb_err: np.array"
   ]
  },
  {
   "cell_type": "markdown",
   "metadata": {},
   "source": [
    "Для удобства работы с функцией максимального правдоподобия L, будем проводить взаимодействие  с помощью класса Likelihood"
   ]
  },
  {
   "cell_type": "code",
   "execution_count": null,
   "metadata": {},
   "outputs": [],
   "source": [
    "class Likelihood (): \n",
    "    \"\"\"\n",
    "    Класс функции правдоподобия LF. При каждой итерации класс изменяет свои внутренние параметры\n",
    "    метод self.LF(x) Изменяет внутренние параметры с соотвествием массива х\n",
    "        и  возращает значение LF  при данных параметров.\n",
    "    Ожидается следующее использование класса в функции минимизатора \n",
    "    minimize(likelihood.LF), где likelihood экземляр класса\n",
    "    \n",
    "    \"\"\"\n",
    "    def __init__ (self,param: Parameters, stars: Stars):\n",
    "        self.param = param #параметры  ['U0', 'V0', 'W0', 'siqu', 'siqv', 'siqw', 'w0', 'w1', 'w2']\n",
    "        #Список названий параметров, которые можно варьировать при минимизаци, остальные параметры считаются закрепленными\n",
    "        self.current_param_key  = list(self.param.__dict__)         \n",
    "        self.stars = stars #Хранит  данные о звездах,(очевидно данные не изменяются данным классом)\n",
    "        \n",
    "        #Вспомогательные расчеты матриц переход, ошибок и тп\n",
    "        #Делает массив 3-ех мерных векторов скоростей звезд [V1, V2,... Vn] где Vi=[Vr,Vl,Vb]. Для удобства обращения \n",
    "        self.NVobs = np.array([[self.stars.vr[i],self.stars.vl[i],self.stars.vb[i]]for i,_ in enumerate(self.stars.vr)])\n",
    "        #Массив из матриц поворота Gs те [Gs_1, Gs_2,... Gs_N](Gs поворот элипсоида скоростей к локальным, см методичку)\n",
    "        self.Gs = np.array([Gs_fun(self.stars.r[i], self.stars.b[i], self.stars.l[i]) for i,_ in enumerate(self.stars.b)])\n",
    "        #Массив из матриц  ошибок скоростей [Lerr_1, Lerr_2, ... Lerr_N]. (см методичку)\n",
    "        self.Lerr = np.array([[\n",
    "                        [self.stars.vr_err[i]**2 ,0,0],\n",
    "                        [0,self.stars.vl_err[i]**2,0],\n",
    "                        [0,0,self.stars.vb_err[i]**2]]\\\n",
    "                            for i,_ in enumerate(self.stars.vr_err)])\n",
    "        #массив растояний от звезды до центра галактики\n",
    "        self.R = np.array([r_centriod_galcenter(self.stars.r[i], self.stars.l[i], self.stars.b[i]) for i,_ in enumerate(self.stars.r)])\n",
    "        ##Массив из матриц перехода GT те [GT_1, GT_2,... GT_N] (GT поворот, для учета вклада  Vsun на направление на звездy, см методичку)\n",
    "        self.GT = np.array([GT_fun(self.stars.r[i], self.stars.l[i], self.stars.b[i]) for i,_ in enumerate(self.stars.r)])\n",
    "        #текущие значенеи функции правдоподобия\n",
    "        self.lf = float('inf')\n",
    "        \n",
    "    def get_x0 (self):\n",
    "        '''возрашает начальный вектор значения для минимизатора, состоит из НЕ закрепленных  значений '''\n",
    "        x0 = list()\n",
    "        for key in self.current_param_key:\n",
    "            x0.append(self.param.__dict__[key])\n",
    "        return np.array(x0)\n",
    "    def set_x0_param(self, var_dict: dict):\n",
    "        '''для удобвста записывает параметры в виде словаре, чтобы потом вызвать x0, \n",
    "        может поменть значение фиксированных переменных, но оставит их фиксированными\n",
    "        '''\n",
    "        for key, val in var_dict.items():\n",
    "            self.edit_param(key, val)\n",
    "        return self.get_x0()\n",
    "    \n",
    "    def edit_param (self, key, value):\n",
    "        \"\"\" Изменяет параметры по ключу и значению\"\"\"\n",
    "        if key in list(param.__dict__):\n",
    "            self.param.__dict__[key] = value\n",
    "        else: print(f\"{key} not in { param.__dict__.keys()}\") \n",
    "    \n",
    "    def fix_var(self, var_dict: dict):\n",
    "        \"\"\"фиксирует заданые название значение, предыдущие закрпленные параметры стираются\n",
    "        то есть по новой идет фиксация, без учета пердыдущий\n",
    "        \"\"\"\n",
    "        keys = list(self.param.__dict__) #список всех доступных наименований параметров\n",
    "        for key, value in var_dict.items(): \n",
    "            keys.remove(key) #убираю фикс парам из списка доступных для изменения названий параметров \n",
    "            self.edit_param(key, value)\n",
    "        self.current_param_key = keys \n",
    "        \n",
    "    def edit_param_from_array(self, x :np.array):\n",
    "        \"\"\" Изменяет параметры по массиву значений\n",
    "         предпологается, что порядок в массиве соотвествует переменным в пордяке self.current_param_key\n",
    "         При коррекной работе с классом это гарантированно будет выполнено\n",
    "        \"\"\"\n",
    "        if (len(x) != len (self.current_param_key)):\n",
    "            raise Exception(f\"длина x не свопадает с количеством незафиксированных параметров x: {x},\\\n",
    "                self: {self.current_param_key}\")\n",
    "        for key, xx in zip(self.current_param_key, x):\n",
    "            self.edit_param(key, xx)\n",
    " \n",
    "    def LF(self, x: np.array):\n",
    "        \"\"\"Возращает значени функции максимального правдоподобия при параметрах X и\n",
    "        сохранает это значение в self.lf\n",
    "        \"\"\"\n",
    "        self.edit_param_from_array(x) #изменение внутренних параметрами согласно x \n",
    "        lf = 0\n",
    "        for i,_ in enumerate(self.stars.r): #для каждой звезды считается значение функции и затем складывается \n",
    "            global R0\n",
    "            R0 = R0 #расстояние до центра галактики kpс\n",
    "            # индекс i в 'naei' имени переменной означает что подсчитанно только для i-ой звезды, и не массив [name1,name2,... nameN]\n",
    "            Lsi= np.array([ #матрица дисперсий (неизвестные параметры)\n",
    "                    [self.param.siqu**2,0,0],\n",
    "                    [0,self.param.siqv**2,0],\n",
    "                    [0,0,self.param.siqw**2]\n",
    "            ])\n",
    "            \n",
    "            #модифицированная матрица ковариациий\n",
    "            #Lobs=Lloc + Lerr\n",
    "            Lobsi = self.Gs[i].dot(Lsi.dot(self.Gs[i].T)) + self.Lerr[i]\n",
    "        \n",
    "            #Разложение в ряд угловой скорости\n",
    "            w_w0 = self.param.w1*(self.R[i]-R0) +0.5*self.param.w2*(self.R[i]-R0)**2\n",
    "            \n",
    "            #Расчет пикулярной скорости \n",
    "            #Вклад кругового вращения \n",
    "            roti = np.array([\n",
    "                    R0*w_w0*sin(self.stars.l[i])*cos(self.stars.b[i]),\\\n",
    "                    (R0*cos(self.stars.l[i])-self.stars.r[i]*cos(self.stars.b[i]))*w_w0 - self.param.w0*self.stars.r[i]*cos(self.stars.b[i]),\\\n",
    "                    -R0*w_w0*sin(self.stars.l[i])*sin(self.stars.b[i])\\\n",
    "                    ])\n",
    "            #Проекция скорости солнца на звезду\n",
    "            Vsuni = self.GT[i].dot(np.array([self.param.U0,self.param.V0,self.param.W0]))\n",
    "            #Пикулярная скорость\n",
    "            dVi = self.NVobs[i] - roti + Vsuni \n",
    "            \n",
    "            #расчет логорифма функции распределения (в трехмерии для нормального трёхосного распределения, см методичку)\n",
    "            lf+= 0.75*np.log(2*np.pi) + 0.5*np.log(np.abs(np.linalg.det(Lobsi))) +0.5*dVi.dot(np.linalg.inv(Lobsi).dot(dVi))\n",
    "        #print (lf)\n",
    "        self.lf = lf\n",
    "        return lf\n"
   ]
  },
  {
   "cell_type": "markdown",
   "metadata": {},
   "source": [
    "### Принцип максимального правдоподобия\n",
    "Теперь может провести рассчет параметров, которые минимизируют Фукнцию правдоподобия. \n",
    "Зададим исходные данные"
   ]
  },
  {
   "cell_type": "code",
   "execution_count": 141,
   "metadata": {},
   "outputs": [
    {
     "name": "stdout",
     "output_type": "stream",
     "text": [
      "изначально все пармаетры свободные:  ['U0', 'V0', 'W0', 'siqu', 'siqv', 'siqw', 'w0', 'w1', 'w2']\n",
      "   *****   зафиксируем U0\n",
      "после фиксации из списка пропала закрпеленная UO:  ['U0', 'V0', 'W0', 'siqu', 'siqv', 'siqw', 'w0', 'w1', 'w2']\n",
      "   *****   освободим все параметры, передав пустой словарь\n",
      "Проверим что все свободны:  ['U0', 'W0', 'siqu', 'siqv', 'siqw', 'w0', 'w1', 'w2']\n"
     ]
    }
   ],
   "source": [
    "#начальные параметры \n",
    "param = Parameters(U0=10,V0=12,W0=7,siqu=14,siqv=9,siqw=7,w0=27.5,w1=-4.4,w2=0.8)\n",
    "#данные о звездах были посчитанны выше в коде\n",
    "stars_sun = Stars(\n",
    "    r = r ,\n",
    "    l = lra,\n",
    "    b = bdec,\n",
    "    vr = vr,\n",
    "    vl = vl, \n",
    "    vb = vb,\n",
    "    vr_err = vr_err,\n",
    "    vl_err = vl_err,\n",
    "    vb_err = vb_err,\n",
    "    \n",
    ")\n",
    "step = Likelihood(param,stars_sun)\n",
    "\n",
    "#['U0', 'V0', 'W0', 'siqu', 'siqv', 'siqw', 'w0', 'w1', 'w2']\n",
    "print(\"изначально все пармаетры свободные: \", step.current_param_key)\n",
    "print (\"   *****   зафиксируем U0\")\n",
    "#step.fix_var({'U0': 10,\"V0\":12,\"W0\":7,\"siqu\":14,\"siqv\":9,\"siqw\":7,'w0':27.5,\"w1\":-4.4})\n",
    "print(\"после фиксации из списка пропала закрпеленная UO: \", step.current_param_key)\n",
    "print (\"   *****   освободим все параметры, передав пустой словарь\")\n",
    "step.fix_var({'V0': 15})\n",
    "print(\"Проверим что все свободны: \", step.current_param_key)"
   ]
  },
  {
   "cell_type": "code",
   "execution_count": 37,
   "metadata": {},
   "outputs": [
    {
     "name": "stdout",
     "output_type": "stream",
     "text": [
      "изначально все пармаетры свободные:  ['U0', 'V0', 'W0', 'siqu', 'siqv', 'siqw', 'w0', 'w1', 'w2']\n",
      "   *****   зафиксируем U0\n",
      "после фиксации из списка пропала закрпеленная UO:  ['V0', 'W0', 'siqu', 'siqv', 'siqw', 'w0', 'w1', 'w2']\n",
      "   *****   освободим все параметры, передав пустой словарь\n",
      "Проверим что все свободны:  ['U0', 'V0', 'W0', 'siqu', 'siqv', 'siqw', 'w0', 'w1', 'w2']\n"
     ]
    }
   ],
   "source": [
    "#тесты на тестовом эллипсиоде \n",
    "\n",
    "#начальные параметры \n",
    "param = Parameters(U0=7,V0=15,W0=17,siqu=15,siqv=22,siqw=0,w0=0,w1=0,w2=0)\n",
    "#данные о звездах были посчитанны выше в коде\n",
    "qqq = np.random.normal(0,40,size=1000)\n",
    "qqq = np.zeros(1000)+90\n",
    "stars_sun = Stars(\n",
    "    r = np.zeros(1000),\n",
    "    l = np.zeros(1000),\n",
    "    b = np.zeros(1000),\n",
    "    vr = np.zeros(1000),\n",
    "    vl = np.random.normal(12,20,size=1000), \n",
    "    vb = np.zeros(1000),\n",
    "    vr_err = np.zeros(1000),\n",
    "    vl_err = np.zeros(1000),\n",
    "    vb_err = np.zeros(1000),\n",
    "    \n",
    ")\n",
    "step = Likelihood(param,stars_sun)\n",
    "\n",
    "#['U0', 'V0', 'W0', 'siqu', 'siqv', 'siqw', 'w0', 'w1', 'w2']\n",
    "print(\"изначально все пармаетры свободные: \", step.current_param_key)\n",
    "print (\"   *****   зафиксируем U0\")\n",
    "step.fix_var({'U0': 0})\n",
    "print(\"после фиксации из списка пропала закрпеленная UO: \", step.current_param_key)\n",
    "print (\"   *****   освободим все параметры, передав пустой словарь\")\n",
    "step.fix_var({})\n",
    "print(\"Проверим что все свободны: \", step.current_param_key)"
   ]
  },
  {
   "cell_type": "code",
   "execution_count": 142,
   "metadata": {},
   "outputs": [
    {
     "name": "stdout",
     "output_type": "stream",
     "text": [
      "Optimization terminated successfully.\n",
      "         Current function value: 4185.629608\n",
      "         Iterations: 844\n",
      "         Function evaluations: 1315\n",
      " final_simplex: (array([[ 9.5021089 ,  7.67841048, 16.70611553, 20.49212212, 15.50885199,\n",
      "        28.4988088 , -3.75148326,  0.69584021],\n",
      "       [ 9.5021089 ,  7.67841049, 16.70611554, 20.49212213, 15.50885199,\n",
      "        28.49880881, -3.75148326,  0.69584021],\n",
      "       [ 9.5021089 ,  7.67841048, 16.70611553, 20.49212213, 15.50885199,\n",
      "        28.49880881, -3.75148326,  0.69584021],\n",
      "       [ 9.5021089 ,  7.67841048, 16.70611553, 20.49212213, 15.50885199,\n",
      "        28.49880881, -3.75148326,  0.69584021],\n",
      "       [ 9.5021089 ,  7.67841048, 16.70611554, 20.49212213, 15.50885199,\n",
      "        28.49880881, -3.75148326,  0.69584021],\n",
      "       [ 9.5021089 ,  7.67841048, 16.70611554, 20.49212212, 15.50885198,\n",
      "        28.49880881, -3.75148326,  0.69584021],\n",
      "       [ 9.5021089 ,  7.67841048, 16.70611553, 20.49212212, 15.50885199,\n",
      "        28.49880881, -3.75148326,  0.69584021],\n",
      "       [ 9.5021089 ,  7.67841048, 16.70611554, 20.49212213, 15.50885199,\n",
      "        28.49880881, -3.75148326,  0.69584021],\n",
      "       [ 9.50210889,  7.67841049, 16.70611553, 20.49212212, 15.50885198,\n",
      "        28.49880881, -3.75148326,  0.69584021]]), array([4185.62960758, 4185.62960758, 4185.62960758, 4185.62960758,\n",
      "       4185.62960758, 4185.62960758, 4185.62960758, 4185.62960758,\n",
      "       4185.62960758]))\n",
      "           fun: 4185.629607580432\n",
      "       message: 'Optimization terminated successfully.'\n",
      "          nfev: 1315\n",
      "           nit: 844\n",
      "        status: 0\n",
      "       success: True\n",
      "             x: array([ 9.5021089 ,  7.67841048, 16.70611553, 20.49212212, 15.50885199,\n",
      "       28.4988088 , -3.75148326,  0.69584021])\n",
      "{'U0': 9.502108895784612, 'V0': 15, 'W0': 7.678410484906491, 'siqu': 16.70611553893799, 'siqv': 20.49212211654344, 'siqw': 15.50885198280464, 'w0': 28.498808809450658, 'w1': -3.7514832564455873, 'w2': 0.6958402102831907}\n"
     ]
    }
   ],
   "source": [
    "#задачем начальные параметры. Примерные значения взял из литературы \n",
    "#http://lnfm1.sai.msu.ru/~milkyway/Study/Kinematics.pdf\n",
    "\n",
    "#step.set_x0_param({'U0':-5, 'V0':-10, 'W0':-5, 'siqu':14, 'siqv':9, 'siqw':7, 'w0':30, 'w1':-5, 'w2':1})\n",
    "#p = {'U0': 9.163876193135224, 'V0': 6.12168161832367, 'W0': 7.889521573026231, 'siqu': 13.137244849856135, 'siqv': 18.8671910525901, 'siqw': 15.229718094280127, 'w0': 30.002879358104217, 'w1': -3.789283577944868, 'w2': 0.43921467025610295}\n",
    "#step.set_x0_param(p)\n",
    "\n",
    "#запускаем минимизацию. Печатаются текущие значение LF Видно что в конце они очень медленно уменьшаются (это почти плато минимума)\n",
    "res0 = minimize(step.LF, step.get_x0(), method='nelder-mead',\n",
    "    options={'xtol': 1e-8, 'disp': True})\n",
    "\n",
    "print (res0)\n",
    "#прооверим значение переменных\n",
    "print(step.param.__dict__)\n",
    "#необходимо повторить минимизацию пока фит не будет успешным, обычно хватает два раза, с заменой НУ на результат фита \n"
   ]
  },
  {
   "cell_type": "markdown",
   "metadata": {},
   "source": [
    "Видим ошибку *Warning: Maximum number of function evaluations has been exceeded.* значит надо взять выходные значения и продолжить минимизацию:\n",
    "выходные значения: \n",
    "LF = 2824.69 (менялаь с третьем знаке последние шаги) \n",
    "\n",
    "{'U0': -0.0052, 'V0': 6.124, 'W0': 0.0189, 'siqu': 14.855, 'siqv': 20.2996, 'siqw': 16.858, 'w0': 30.43, 'w1': -3.84, 'w2': 0.44}"
   ]
  },
  {
   "cell_type": "code",
   "execution_count": 42,
   "metadata": {},
   "outputs": [
    {
     "name": "stdout",
     "output_type": "stream",
     "text": [
      "Optimization terminated successfully.\n",
      "         Current function value: 4262.700752\n",
      "         Iterations: 1136\n",
      "         Function evaluations: 1723\n",
      "{'U0': 8.90027916931819, 'V0': 13.491033033681257, 'W0': 7.698010810101314, 'siqu': 17.291873067012325, 'siqv': 22.042285211307913, 'siqw': 17.2787970521147, 'w0': 27.11099651831307, 'w1': -3.046729619321604, 'w2': -0.3094668025848607}\n"
     ]
    }
   ],
   "source": [
    "#выходные параметры прошлой итерации\n",
    "p={'U0': 8.81945261902743, 'V0': 5.660000293233926, 'W0': 7.8682133795847236, 'siqu': 14.067979660654597, 'siqv': 20.587911424557298, 'siqw': 14.767026686056305, 'w0': 29.297959619872955, 'w1': -3.605865662873187, 'w2': 0.27878653552628196}\n",
    "#p = {'U0': -0.00526111619060203, 'V0': 6.1244766663338766, 'W0': 0.018904229247651935, 'siqu': 14.855174096346072, 'siqv': 20.299665283123247, 'siqw': 16.85818319298103, 'w0': 30.43946215733088, 'w1': -3.8442826162742856, 'w2': 0.4422801186839095}\n",
    "step.set_x0_param(p)\n",
    "\n",
    "res1 = minimize(step.LF, step.get_x0(), method='nelder-mead',\n",
    "    options={'xtol': 1e-8, 'disp': True})\n",
    "\n",
    "#print (res1)\n",
    "#прооверим значение переменных\n",
    "print(step.param.__dict__)"
   ]
  },
  {
   "cell_type": "code",
   "execution_count": 48,
   "metadata": {},
   "outputs": [
    {
     "name": "stdout",
     "output_type": "stream",
     "text": [
      "Optimization terminated successfully.\n",
      "         Current function value: 2755.277672\n",
      "         Iterations: 523\n",
      "         Function evaluations: 849\n",
      " final_simplex: (array([[ 9.05944589,  6.12070608,  7.96515454, 13.13508281, 18.86869029,\n",
      "        15.23230465, 30.00496864, -3.78900472,  0.43909544],\n",
      "       [ 9.05944589,  6.12070608,  7.96515454, 13.13508281, 18.86869029,\n",
      "        15.23230465, 30.00496864, -3.78900472,  0.43909544],\n",
      "       [ 9.05944589,  6.12070608,  7.96515454, 13.13508281, 18.86869029,\n",
      "        15.23230465, 30.00496864, -3.78900472,  0.43909544],\n",
      "       [ 9.05944588,  6.12070608,  7.96515454, 13.13508281, 18.86869029,\n",
      "        15.23230465, 30.00496864, -3.78900472,  0.43909544],\n",
      "       [ 9.05944589,  6.12070608,  7.96515454, 13.13508281, 18.86869029,\n",
      "        15.23230465, 30.00496864, -3.78900472,  0.43909544],\n",
      "       [ 9.05944589,  6.12070608,  7.96515454, 13.13508281, 18.86869029,\n",
      "        15.23230465, 30.00496864, -3.78900472,  0.43909544],\n",
      "       [ 9.05944589,  6.12070608,  7.96515454, 13.13508281, 18.86869029,\n",
      "        15.23230465, 30.00496864, -3.78900472,  0.43909544],\n",
      "       [ 9.05944589,  6.12070608,  7.96515454, 13.13508281, 18.86869029,\n",
      "        15.23230465, 30.00496864, -3.78900472,  0.43909544],\n",
      "       [ 9.05944588,  6.12070608,  7.96515454, 13.13508281, 18.86869029,\n",
      "        15.23230465, 30.00496863, -3.78900472,  0.43909544],\n",
      "       [ 9.05944589,  6.12070608,  7.96515454, 13.13508281, 18.86869029,\n",
      "        15.23230465, 30.00496864, -3.78900472,  0.43909544]]), array([2755.27767165, 2755.27767165, 2755.27767165, 2755.27767165,\n",
      "       2755.27767165, 2755.27767165, 2755.27767165, 2755.27767165,\n",
      "       2755.27767165, 2755.27767165]))\n",
      "           fun: 2755.277671654212\n",
      "       message: 'Optimization terminated successfully.'\n",
      "          nfev: 849\n",
      "           nit: 523\n",
      "        status: 0\n",
      "       success: True\n",
      "             x: array([ 9.05944589,  6.12070608,  7.96515454, 13.13508281, 18.86869029,\n",
      "       15.23230465, 30.00496864, -3.78900472,  0.43909544])\n",
      "{'U0': 9.059445881840166, 'V0': 6.120706082929178, 'W0': 7.965154542683982, 'siqu': 13.135082805157484, 'siqv': 18.868690292681343, 'siqw': 15.232304650762227, 'w0': 30.004968633877056, 'w1': -3.7890047212893494, 'w2': 0.43909544253405075}\n"
     ]
    }
   ],
   "source": [
    "#И накоец третья итерация \n",
    "#p = {'U0': 9.064078727574213, 'V0': 6.1265855091023695, 'W0': 7.96679360763638, 'siqu': 13.140209411260306, 'siqv': 18.853887575941684, 'siqw': 15.237878583891352, 'w0': 30.006398581049055, 'w1': -3.7872282801005532, 'w2': 0.4387475065763782}\n",
    "#step.set_x0_param(p)\n",
    "\n",
    "res2 = minimize(step.LF, step.get_x0(), method='nelder-mead',\n",
    "    options={'xtol': 1e-8, 'disp': True})\n",
    "#на этот раз удалось дойти до минимума \n",
    "\n",
    "print (res2)\n",
    "#прооверим значение переменных\n",
    "print(step.param.__dict__)\n"
   ]
  },
  {
   "cell_type": "markdown",
   "metadata": {},
   "source": [
    "Спустя три итерации мы получилис конечные значения параметров \n",
    "{'U0': 9.059445881840166, 'V0': 6.120706082929178, 'W0': 7.965154542683982, 'siqu': 13.135082805157484, 'siqv': 18.868690292681343, 'siqw': 15.232304650762227, 'w0': 30.004968633877056, 'w1': -3.7890047212893494, 'w2': 0.43909544253405075}\n",
    "\n",
    "### Подсчет ошибок\n",
    "\n",
    "Для подсчета ошибок варьируем по очереди параметр, увеличив его на нексолько процентов dx. Заметим, что от dx ОЧЕНЬ сильно влияет на величину ошибок. Я остановился на добавке 10% (т.е. delta_ratio=0.1) "
   ]
  },
  {
   "cell_type": "code",
   "execution_count": 53,
   "metadata": {},
   "outputs": [],
   "source": [
    "#Функция для подсчета ошибок \n",
    "def solve_error_by_key(step: Likelihood, key: str, delta_ratio):\n",
    "    '''delta_ratio во сколько раз надо изменить начальное условие'''\n",
    "    x0 = step.param.__dict__ #запоминю начальные усдловия \n",
    "    lf0 = step.lf\n",
    "    #print (:(x0[key]*(1+delta_ratio)))\n",
    "    step.fix_var({key: x0[key]*(1+delta_ratio)})\n",
    "    #в процессе минимизации step будет изменяться и запомнит конечную итерцацию\n",
    "    res = minimize(step.LF, step.get_x0(), method='nelder-mead',\n",
    "        options={'xtol': 1e-5, 'disp': True})\n",
    "    #print(step.param.__dict__)\n",
    "    lf = step.lf\n",
    "    \n",
    "    step.set_x0_param(x0) #возращаю класс в исходное состояние \n",
    "    step.lf = lf0\n",
    "    \n",
    "    return np.abs(x0[key]*(1+delta_ratio)/np.sqrt(np.abs(2*(lf0-lf))))"
   ]
  },
  {
   "cell_type": "code",
   "execution_count": 62,
   "metadata": {
    "scrolled": true
   },
   "outputs": [
    {
     "name": "stdout",
     "output_type": "stream",
     "text": [
      "Optimization terminated successfully.\n",
      "         Current function value: 2755.453640\n",
      "         Iterations: 698\n",
      "         Function evaluations: 1024\n",
      "Optimization terminated successfully.\n",
      "         Current function value: 2755.592235\n",
      "         Iterations: 289\n",
      "         Function evaluations: 475\n",
      "Optimization terminated successfully.\n",
      "         Current function value: 2755.693904\n",
      "         Iterations: 251\n",
      "         Function evaluations: 421\n",
      "Optimization terminated successfully.\n",
      "         Current function value: 2757.388704\n",
      "         Iterations: 452\n",
      "         Function evaluations: 683\n",
      "Optimization terminated successfully.\n",
      "         Current function value: 2757.340584\n",
      "         Iterations: 381\n",
      "         Function evaluations: 589\n",
      "Optimization terminated successfully.\n",
      "         Current function value: 2757.181507\n",
      "         Iterations: 486\n",
      "         Function evaluations: 745\n",
      "Optimization terminated successfully.\n",
      "         Current function value: 2777.998857\n",
      "         Iterations: 488\n",
      "         Function evaluations: 740\n",
      "Optimization terminated successfully.\n",
      "         Current function value: 2785.233164\n",
      "         Iterations: 612\n",
      "         Function evaluations: 932\n",
      "Optimization terminated successfully.\n",
      "         Current function value: 2802.358626\n",
      "         Iterations: 518\n",
      "         Function evaluations: 771\n",
      "Итоговые данные:\n",
      "|   U0|       9.0 +- 2.8       | 0.31      |\n",
      "|   V0|       5.2 +- 2.0       | 0.38      |\n",
      "|   W0|       7.5 +- 2.6       | 0.34      |\n",
      "| siqu|   1.4e+01 +- 4.9       | 0.36      |\n",
      "| siqv|   2.2e+01 +- 7.0       | 0.32      |\n",
      "| siqw|   1.6e+01 +- 5.6       | 0.36      |\n",
      "|   w0|   3.1e+01 +- 6.6       | 0.21      |\n",
      "|   w1|      -4.6 +- 0.74      | -0.16     |\n",
      "|   w2|      0.61 +- 0.076     | 0.12      |\n"
     ]
    }
   ],
   "source": [
    "#delta_ratio = 0.1\n",
    "err = {}\n",
    "for key in step.param.__dict__.keys():\n",
    "    err[key]=solve_error_by_key(step, key, delta_ratio=0.1)\n",
    "#print(err)\n",
    "print (\"Итоговые данные:\")\n",
    "for key, val in err.items():\n",
    "    #print (f\"{key:>5}: {step.param.__dict__[key] : >10.2} +- {err[key]: <10.2}  dx/x: {err[key]/step.param.__dict__[key]: <10.2}\")\n",
    "    print (f\"|{key:>5}|{step.param.__dict__[key] : >10.2} +- {err[key]: <10.2}| {err[key]/step.param.__dict__[key]: <10.2}|\")\n"
   ]
  },
  {
   "cell_type": "code",
   "execution_count": 105,
   "metadata": {},
   "outputs": [
    {
     "name": "stdout",
     "output_type": "stream",
     "text": [
      "Optimization terminated successfully.\n",
      "         Current function value: 4679.143436\n",
      "         Iterations: 292\n",
      "         Function evaluations: 479\n",
      "Optimization terminated successfully.\n",
      "         Current function value: 4678.488088\n",
      "         Iterations: 416\n",
      "         Function evaluations: 653\n",
      "Optimization terminated successfully.\n",
      "         Current function value: 4679.370303\n",
      "         Iterations: 414\n",
      "         Function evaluations: 628\n",
      "Optimization terminated successfully.\n",
      "         Current function value: 4689.214591\n",
      "         Iterations: 445\n",
      "         Function evaluations: 697\n",
      "Optimization terminated successfully.\n",
      "         Current function value: 4688.943623\n",
      "         Iterations: 470\n",
      "         Function evaluations: 731\n",
      "Optimization terminated successfully.\n",
      "         Current function value: 4687.771341\n",
      "         Iterations: 473\n",
      "         Function evaluations: 724\n",
      "Optimization terminated successfully.\n",
      "         Current function value: 4779.404856\n",
      "         Iterations: 674\n",
      "         Function evaluations: 1009\n",
      "Optimization terminated successfully.\n",
      "         Current function value: 4827.464184\n",
      "         Iterations: 748\n",
      "         Function evaluations: 1122\n",
      "Optimization terminated successfully.\n",
      "         Current function value: 4909.184339\n",
      "         Iterations: 667\n",
      "         Function evaluations: 999\n",
      "Итоговые данные:\n",
      "|   U0|       9.5 +- 6.3       | 0.66      |\n",
      "|   V0|       4.4 +- 4.8       | 1.1       |\n",
      "|   W0|       7.4 +- 5.3       | 0.71      |\n",
      "| siqu|   1.6e+01 +- 4.2       | 0.26      |\n",
      "| siqv|   2.9e+01 +- 6.0       | 0.21      |\n",
      "| siqw|   1.8e+01 +- 4.8       | 0.27      |\n",
      "|   w0|     3e+01 +- 2.9       | 0.097     |\n",
      "|   w1|      -5.0 +- 0.34      | -0.068    |\n",
      "|   w2|      0.79 +- 0.044     | 0.056     |\n"
     ]
    }
   ],
   "source": [
    "#delta_ratio = 0.2\n",
    "err = {}\n",
    "for key in step.param.__dict__.keys():\n",
    "    err[key]=solve_error_by_key(step, key, delta_ratio=0.2)\n",
    "#print(err)\n",
    "print (\"Итоговые данные:\")\n",
    "for key, val in err.items():\n",
    "    #print (f\"{key:>5}: {step.param.__dict__[key] : >10.2} +- {err[key]: <10.2}  dx/x: {err[key]/step.param.__dict__[key]: <10.2}\")\n",
    "    print (f\"|{key:>5}|{step.param.__dict__[key] : >10.2} +- {err[key]: <10.2}| {err[key]/step.param.__dict__[key]: <10.2}|\")\n",
    "#Ошибки сильно подскочили у некотрых параметров "
   ]
  },
  {
   "cell_type": "markdown",
   "metadata": {},
   "source": [
    "### Итоговые результаты для snr>10\n",
    "\n",
    "|name|result|dx/x|\n",
    "|-|-|-|\n",
    "|   U0|       9.0 +- 2.8       | 0.31      |\n",
    "|   V0|       5.2 +- 2.0       | 0.38      |\n",
    "|   W0|       7.5 +- 2.6       | 0.34      |\n",
    "| siqu|   1.4e+01 +- 4.9       | 0.36      |\n",
    "| siqv|   2.2e+01 +- 7.0       | 0.32      |\n",
    "| siqw|   1.6e+01 +- 5.6       | 0.36      |\n",
    "|   w0|   3.1e+01 +- 6.6       | 0.21      |\n",
    "|   w1|      -4.6 +- 0.74      | -0.16     |\n",
    "|   w2|      0.61 +- 0.076     | 0.12      |\n"
   ]
  },
  {
   "cell_type": "code",
   "execution_count": 281,
   "metadata": {
    "scrolled": true
   },
   "outputs": [
    {
     "data": {
      "image/png": "[encoded data removed]",
      "text/plain": [
       "<Figure size 432x288 with 1 Axes>"
      ]
     },
     "metadata": {
      "needs_background": "light"
     },
     "output_type": "display_data"
    }
   ],
   "source": [
    "gal_r = np.zeros(len(r))\n",
    "gal_r = r_centriod_galcenter(r,lra,bdec)\n",
    "sun_v=np.array([0,31*8.2,0])\n",
    "gal_v = np.sqrt((vx-sun_v[0]/30)**2+(vy-sun_v[1]/30)**2+(vz-sun_v[2]/30)**2)\n",
    "plt.scatter(gal_r, gal_v*30)\n",
    "x = np.linspace(5,15)\n",
    "plt.plot(x,x*(31+-4.4*(x-8.2)+0.6/2*(x-8.2)**2))\n",
    "plt.scatter(1,1)\n",
    "plt.ylim(0,350)\n",
    "plt.show()\n"
   ]
  },
  {
   "cell_type": "code",
   "execution_count": 279,
   "metadata": {
    "scrolled": true
   },
   "outputs": [],
   "source": [
    "class Curve_v(Likelihood):\n",
    "    def __init__(self, likelihood: Likelihood):\n",
    "        Likelihood.__init__ (self,likelihood.param, likelihood.stars)\n",
    "        \n",
    "    def gal_centr_v(self):\n",
    "        R0=8.2\n",
    "        gal_v_c = np.zeros(len(self.stars.r))\n",
    "        for i,_ in enumerate(self.stars.r):\n",
    "            w_w0 = 0\n",
    "            #print (w_w0)\n",
    "            roti=np.array([0,250,0])\n",
    "            '''roti = np.array([\n",
    "                        R0*w_w0*sin(self.stars.l[i])*cos(self.stars.b[i]),\\\n",
    "                        (R0*cos(self.stars.l[i])-self.stars.r[i]*cos(self.stars.b[i]))*w_w0 - self.param.w0*self.stars.r[i]*cos(self.stars.b[i]),\\\n",
    "                        -R0*w_w0*sin(self.stars.l[i])*sin(self.stars.b[i])\\\n",
    "                        ])'''\n",
    "            #Проекция скорости солнца на звезду\n",
    "            Vsuni = self.GT[i].dot(np.array([self.param.U0,self.param.V0,self.param.W0]))\n",
    "            #Пикулярная скорость\n",
    "            dVi = self.NVobs[i] + Vsuni -roti\n",
    "            #print (Vsuni, dVi,self.NVobs[i][1])\n",
    "            gal_v_c[i]= np.sqrt(np.sum(dVi*dVi))\n",
    "        return gal_v_c\n"
   ]
  }
 ],
 "metadata": {
  "kernelspec": {
   "display_name": "Python 3",
   "language": "python",
   "name": "python3"
  },
  "language_info": {
   "codemirror_mode": {
    "name": "ipython",
    "version": 3
   },
   "file_extension": ".py",
   "mimetype": "text/x-python",
   "name": "python",
   "nbconvert_exporter": "python",
   "pygments_lexer": "ipython3",
   "version": "3.7.4"
  }
 },
 "nbformat": 4,
 "nbformat_minor": 4
}
